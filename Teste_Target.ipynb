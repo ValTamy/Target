{
  "nbformat": 4,
  "nbformat_minor": 0,
  "metadata": {
    "colab": {
      "provenance": [],
      "authorship_tag": "ABX9TyNjve5dB/a74KFsJCe3RLas",
      "include_colab_link": true
    },
    "kernelspec": {
      "name": "python3",
      "display_name": "Python 3"
    },
    "language_info": {
      "name": "python"
    }
  },
  "cells": [
    {
      "cell_type": "markdown",
      "metadata": {
        "id": "view-in-github",
        "colab_type": "text"
      },
      "source": [
        "<a href=\"https://colab.research.google.com/github/ValTamy/Target/blob/main/Teste_Target.ipynb\" target=\"_parent\"><img src=\"https://colab.research.google.com/assets/colab-badge.svg\" alt=\"Open In Colab\"/></a>"
      ]
    },
    {
      "cell_type": "code",
      "execution_count": 9,
      "metadata": {
        "colab": {
          "base_uri": "https://localhost:8080/"
        },
        "id": "5xURMap579Uj",
        "outputId": "b8fa1389-7290-4684-de7c-5fd20b0f3a39"
      },
      "outputs": [
        {
          "output_type": "stream",
          "name": "stdout",
          "text": [
            "91\n"
          ]
        }
      ],
      "source": [
        "indice = 13\n",
        "soma = 0\n",
        "k = 0\n",
        "\n",
        "while k < indice:\n",
        "  k = k+1\n",
        "  soma = soma + k\n",
        "print(soma)\n"
      ]
    },
    {
      "cell_type": "code",
      "source": [
        "def fibonacci(n):\n",
        "    if n < 0:\n",
        "        return False\n",
        "    a, b = 0, 1\n",
        "    while a <= n:\n",
        "        if a == n:\n",
        "            return True\n",
        "        a, b = b, a + b\n",
        "    return False\n",
        "\n",
        "numero = int(input(\"Digite um número: \"))\n",
        "\n",
        "if fibonacci(numero):\n",
        "    print(f\"O número {numero} pertence à sequência.\")\n",
        "else:\n",
        "    print(f\"O número {numero} não pertence à sequência.\")"
      ],
      "metadata": {
        "colab": {
          "base_uri": "https://localhost:8080/"
        },
        "id": "9xwniyp69GLI",
        "outputId": "4e4ea893-fe7e-4b3b-e23a-a7a0d0d2a1c9"
      },
      "execution_count": 19,
      "outputs": [
        {
          "output_type": "stream",
          "name": "stdout",
          "text": [
            "Digite um número: 31\n",
            "O número 31 não pertence à sequência de Fibonacci.\n"
          ]
        }
      ]
    },
    {
      "cell_type": "code",
      "source": [
        "import json\n",
        "\n",
        "def processar_faturamento(arquivo_json):\n",
        "    with open(arquivo_json, 'r') as f:\n",
        "        dados = json.load(f)\n",
        "\n",
        "    if not isinstance(dados, list):\n",
        "        return \"O arquivo JSON deve conter uma lista de objetos.\"\n",
        "\n",
        "    valores = [dia['valor'] for dia in dados if dia['valor'] > 0]\n",
        "\n",
        "    if not valores:\n",
        "        return \"Não há dados de faturamento válidos para processar.\"\n",
        "\n",
        "    menor_valor = min(valores)\n",
        "    maior_valor = max(valores)\n",
        "    media_mensal = sum(valores) / len(valores)\n",
        "\n",
        "    dias_acima_media = sum(1 for dia in dados if dia['valor'] > media_mensal)\n",
        "\n",
        "    return {\n",
        "        'menor_valor': menor_valor,\n",
        "        'maior_valor': maior_valor,\n",
        "        'dias_acima_media': dias_acima_media\n",
        "    }\n",
        "\n",
        "resultado = processar_faturamento('dados.json')\n",
        "\n",
        "if isinstance(resultado, dict):\n",
        "    print(f\"Menor valor de faturamento: {resultado['menor_valor']}\")\n",
        "    print(f\"Maior valor de faturamento: {resultado['maior_valor']}\")\n",
        "    print(f\"Número de dias com valor acima da média mensal: {resultado['dias_acima_media']}\")\n",
        "else:\n",
        "    print(resultado)"
      ],
      "metadata": {
        "colab": {
          "base_uri": "https://localhost:8080/"
        },
        "id": "5fN-jVZXDmez",
        "outputId": "26d09bb0-5695-48f6-dbf9-32a444460ad8"
      },
      "execution_count": 53,
      "outputs": [
        {
          "output_type": "stream",
          "name": "stdout",
          "text": [
            "Menor valor de faturamento: 373.7838\n",
            "Maior valor de faturamento: 48924.2448\n",
            "Número de dias com valor acima da média mensal: 10\n"
          ]
        }
      ]
    },
    {
      "cell_type": "code",
      "source": [
        "faturamentos = {\n",
        "    'SP': 67836.43,\n",
        "    'RJ': 36678.66,\n",
        "    'MG': 29229.88,\n",
        "    'ES': 27165.48,\n",
        "    'Outros': 19849.53}\n",
        "\n",
        "def calcular_percentual(faturamentos):\n",
        "\n",
        "    total_mensal = sum(faturamentos.values())\n",
        "\n",
        "    percentuais = {estado: (valor / total_mensal) * 100 for estado, valor in faturamentos.items()}\n",
        "\n",
        "    return percentuais\n",
        "percentuais = calcular_percentual(faturamentos)\n",
        "\n",
        "for estado, percentual in percentuais.items():\n",
        "    print(f\"{estado}: {percentual:.0f}%\")"
      ],
      "metadata": {
        "colab": {
          "base_uri": "https://localhost:8080/"
        },
        "id": "Y75tp9eFKbDb",
        "outputId": "ca5b90e2-4f85-444d-f855-6e43c937f3b3"
      },
      "execution_count": 80,
      "outputs": [
        {
          "output_type": "stream",
          "name": "stdout",
          "text": [
            "SP: 38%\n",
            "RJ: 20%\n",
            "MG: 16%\n",
            "ES: 15%\n",
            "Outros: 11%\n"
          ]
        }
      ]
    },
    {
      "cell_type": "code",
      "source": [
        "normal = input('Escreva algo: ')\n",
        "print(normal[::-1] )"
      ],
      "metadata": {
        "colab": {
          "base_uri": "https://localhost:8080/"
        },
        "id": "d6y7YW4IK2QR",
        "outputId": "bd9c8c0c-3fb1-4346-f3b9-2ce4ff0f5888"
      },
      "execution_count": 82,
      "outputs": [
        {
          "output_type": "stream",
          "name": "stdout",
          "text": [
            "Escreva algo: valquiria\n",
            "airiuqlav\n"
          ]
        }
      ]
    }
  ]
}